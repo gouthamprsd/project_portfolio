{
 "cells": [
  {
   "cell_type": "code",
   "execution_count": 3,
   "id": "9ec181f6",
   "metadata": {},
   "outputs": [],
   "source": [
    "#Load necessary packages for the analysis \n",
    "import pandas as pd\n",
    "import matplotlib.pyplot as plt\n",
    "import seaborn as sns\n",
    "import numpy as np\n",
    "import os\n",
    "\n",
    "from sklearn.preprocessing import StandardScaler\n",
    "from sklearn.model_selection import train_test_split\n",
    "from sklearn.metrics import mean_squared_error\n",
    "from sklearn.metrics import mean_absolute_error\n",
    "from sklearn.neural_network import MLPClassifier\n",
    "from dmba import classificationSummary"
   ]
  },
  {
   "cell_type": "code",
   "execution_count": 4,
   "id": "2e71ad74",
   "metadata": {},
   "outputs": [],
   "source": [
    "#Load data into the supply chain dataframe\n",
    "supply_chain_df=pd.read_csv('C:/Users/gouth/Desktop/Semester 4/Machine Learning 2/Assignment 1/Input/DataCoSupplyChainDataset.csv',encoding='latin-1')"
   ]
  },
  {
   "cell_type": "code",
   "execution_count": 5,
   "id": "1ba947d4",
   "metadata": {
    "scrolled": true
   },
   "outputs": [
    {
     "data": {
      "text/html": [
       "<div>\n",
       "<style scoped>\n",
       "    .dataframe tbody tr th:only-of-type {\n",
       "        vertical-align: middle;\n",
       "    }\n",
       "\n",
       "    .dataframe tbody tr th {\n",
       "        vertical-align: top;\n",
       "    }\n",
       "\n",
       "    .dataframe thead th {\n",
       "        text-align: right;\n",
       "    }\n",
       "</style>\n",
       "<table border=\"1\" class=\"dataframe\">\n",
       "  <thead>\n",
       "    <tr style=\"text-align: right;\">\n",
       "      <th></th>\n",
       "      <th>Type</th>\n",
       "      <th>Days for shipping (real)</th>\n",
       "      <th>Days for shipment (scheduled)</th>\n",
       "      <th>Benefit per order</th>\n",
       "      <th>Sales per customer</th>\n",
       "      <th>Delivery Status</th>\n",
       "      <th>Late_delivery_risk</th>\n",
       "      <th>Category Id</th>\n",
       "      <th>Category Name</th>\n",
       "      <th>Customer City</th>\n",
       "      <th>...</th>\n",
       "      <th>Order Zipcode</th>\n",
       "      <th>Product Card Id</th>\n",
       "      <th>Product Category Id</th>\n",
       "      <th>Product Description</th>\n",
       "      <th>Product Image</th>\n",
       "      <th>Product Name</th>\n",
       "      <th>Product Price</th>\n",
       "      <th>Product Status</th>\n",
       "      <th>shipping date (DateOrders)</th>\n",
       "      <th>Shipping Mode</th>\n",
       "    </tr>\n",
       "  </thead>\n",
       "  <tbody>\n",
       "    <tr>\n",
       "      <th>0</th>\n",
       "      <td>DEBIT</td>\n",
       "      <td>3</td>\n",
       "      <td>4</td>\n",
       "      <td>91.250000</td>\n",
       "      <td>314.640015</td>\n",
       "      <td>Advance shipping</td>\n",
       "      <td>0</td>\n",
       "      <td>73</td>\n",
       "      <td>Sporting Goods</td>\n",
       "      <td>Caguas</td>\n",
       "      <td>...</td>\n",
       "      <td>NaN</td>\n",
       "      <td>1360</td>\n",
       "      <td>73</td>\n",
       "      <td>NaN</td>\n",
       "      <td>http://images.acmesports.sports/Smart+watch</td>\n",
       "      <td>Smart watch</td>\n",
       "      <td>327.75</td>\n",
       "      <td>0</td>\n",
       "      <td>2/3/2018 22:56</td>\n",
       "      <td>Standard Class</td>\n",
       "    </tr>\n",
       "    <tr>\n",
       "      <th>1</th>\n",
       "      <td>TRANSFER</td>\n",
       "      <td>5</td>\n",
       "      <td>4</td>\n",
       "      <td>-249.089996</td>\n",
       "      <td>311.359985</td>\n",
       "      <td>Late delivery</td>\n",
       "      <td>1</td>\n",
       "      <td>73</td>\n",
       "      <td>Sporting Goods</td>\n",
       "      <td>Caguas</td>\n",
       "      <td>...</td>\n",
       "      <td>NaN</td>\n",
       "      <td>1360</td>\n",
       "      <td>73</td>\n",
       "      <td>NaN</td>\n",
       "      <td>http://images.acmesports.sports/Smart+watch</td>\n",
       "      <td>Smart watch</td>\n",
       "      <td>327.75</td>\n",
       "      <td>0</td>\n",
       "      <td>1/18/2018 12:27</td>\n",
       "      <td>Standard Class</td>\n",
       "    </tr>\n",
       "    <tr>\n",
       "      <th>2</th>\n",
       "      <td>CASH</td>\n",
       "      <td>4</td>\n",
       "      <td>4</td>\n",
       "      <td>-247.779999</td>\n",
       "      <td>309.720001</td>\n",
       "      <td>Shipping on time</td>\n",
       "      <td>0</td>\n",
       "      <td>73</td>\n",
       "      <td>Sporting Goods</td>\n",
       "      <td>San Jose</td>\n",
       "      <td>...</td>\n",
       "      <td>NaN</td>\n",
       "      <td>1360</td>\n",
       "      <td>73</td>\n",
       "      <td>NaN</td>\n",
       "      <td>http://images.acmesports.sports/Smart+watch</td>\n",
       "      <td>Smart watch</td>\n",
       "      <td>327.75</td>\n",
       "      <td>0</td>\n",
       "      <td>1/17/2018 12:06</td>\n",
       "      <td>Standard Class</td>\n",
       "    </tr>\n",
       "    <tr>\n",
       "      <th>3</th>\n",
       "      <td>DEBIT</td>\n",
       "      <td>3</td>\n",
       "      <td>4</td>\n",
       "      <td>22.860001</td>\n",
       "      <td>304.809998</td>\n",
       "      <td>Advance shipping</td>\n",
       "      <td>0</td>\n",
       "      <td>73</td>\n",
       "      <td>Sporting Goods</td>\n",
       "      <td>Los Angeles</td>\n",
       "      <td>...</td>\n",
       "      <td>NaN</td>\n",
       "      <td>1360</td>\n",
       "      <td>73</td>\n",
       "      <td>NaN</td>\n",
       "      <td>http://images.acmesports.sports/Smart+watch</td>\n",
       "      <td>Smart watch</td>\n",
       "      <td>327.75</td>\n",
       "      <td>0</td>\n",
       "      <td>1/16/2018 11:45</td>\n",
       "      <td>Standard Class</td>\n",
       "    </tr>\n",
       "    <tr>\n",
       "      <th>4</th>\n",
       "      <td>PAYMENT</td>\n",
       "      <td>2</td>\n",
       "      <td>4</td>\n",
       "      <td>134.210007</td>\n",
       "      <td>298.250000</td>\n",
       "      <td>Advance shipping</td>\n",
       "      <td>0</td>\n",
       "      <td>73</td>\n",
       "      <td>Sporting Goods</td>\n",
       "      <td>Caguas</td>\n",
       "      <td>...</td>\n",
       "      <td>NaN</td>\n",
       "      <td>1360</td>\n",
       "      <td>73</td>\n",
       "      <td>NaN</td>\n",
       "      <td>http://images.acmesports.sports/Smart+watch</td>\n",
       "      <td>Smart watch</td>\n",
       "      <td>327.75</td>\n",
       "      <td>0</td>\n",
       "      <td>1/15/2018 11:24</td>\n",
       "      <td>Standard Class</td>\n",
       "    </tr>\n",
       "  </tbody>\n",
       "</table>\n",
       "<p>5 rows × 53 columns</p>\n",
       "</div>"
      ],
      "text/plain": [
       "       Type  Days for shipping (real)  Days for shipment (scheduled)  \\\n",
       "0     DEBIT                         3                              4   \n",
       "1  TRANSFER                         5                              4   \n",
       "2      CASH                         4                              4   \n",
       "3     DEBIT                         3                              4   \n",
       "4   PAYMENT                         2                              4   \n",
       "\n",
       "   Benefit per order  Sales per customer   Delivery Status  \\\n",
       "0          91.250000          314.640015  Advance shipping   \n",
       "1        -249.089996          311.359985     Late delivery   \n",
       "2        -247.779999          309.720001  Shipping on time   \n",
       "3          22.860001          304.809998  Advance shipping   \n",
       "4         134.210007          298.250000  Advance shipping   \n",
       "\n",
       "   Late_delivery_risk  Category Id   Category Name Customer City  ...  \\\n",
       "0                   0           73  Sporting Goods        Caguas  ...   \n",
       "1                   1           73  Sporting Goods        Caguas  ...   \n",
       "2                   0           73  Sporting Goods      San Jose  ...   \n",
       "3                   0           73  Sporting Goods   Los Angeles  ...   \n",
       "4                   0           73  Sporting Goods        Caguas  ...   \n",
       "\n",
       "  Order Zipcode Product Card Id Product Category Id  Product Description  \\\n",
       "0           NaN            1360                  73                  NaN   \n",
       "1           NaN            1360                  73                  NaN   \n",
       "2           NaN            1360                  73                  NaN   \n",
       "3           NaN            1360                  73                  NaN   \n",
       "4           NaN            1360                  73                  NaN   \n",
       "\n",
       "                                  Product Image  Product Name Product Price  \\\n",
       "0  http://images.acmesports.sports/Smart+watch   Smart watch         327.75   \n",
       "1  http://images.acmesports.sports/Smart+watch   Smart watch         327.75   \n",
       "2  http://images.acmesports.sports/Smart+watch   Smart watch         327.75   \n",
       "3  http://images.acmesports.sports/Smart+watch   Smart watch         327.75   \n",
       "4  http://images.acmesports.sports/Smart+watch   Smart watch         327.75   \n",
       "\n",
       "  Product Status shipping date (DateOrders)   Shipping Mode  \n",
       "0              0             2/3/2018 22:56  Standard Class  \n",
       "1              0            1/18/2018 12:27  Standard Class  \n",
       "2              0            1/17/2018 12:06  Standard Class  \n",
       "3              0            1/16/2018 11:45  Standard Class  \n",
       "4              0            1/15/2018 11:24  Standard Class  \n",
       "\n",
       "[5 rows x 53 columns]"
      ]
     },
     "execution_count": 5,
     "metadata": {},
     "output_type": "execute_result"
    }
   ],
   "source": [
    "supply_chain_df.head()"
   ]
  },
  {
   "cell_type": "code",
   "execution_count": 6,
   "id": "382f6f51",
   "metadata": {},
   "outputs": [
    {
     "name": "stdout",
     "output_type": "stream",
     "text": [
      "Type\n",
      "Days for shipping (real)\n",
      "Days for shipment (scheduled)\n",
      "Benefit per order\n",
      "Sales per customer\n",
      "Delivery Status\n",
      "Late_delivery_risk\n",
      "Category Id\n",
      "Category Name\n",
      "Customer City\n",
      "Customer Country\n",
      "Customer Email\n",
      "Customer Fname\n",
      "Customer Id\n",
      "Customer Lname\n",
      "Customer Password\n",
      "Customer Segment\n",
      "Customer State\n",
      "Customer Street\n",
      "Customer Zipcode\n",
      "Department Id\n",
      "Department Name\n",
      "Latitude\n",
      "Longitude\n",
      "Market\n",
      "Order City\n",
      "Order Country\n",
      "Order Customer Id\n",
      "order date (DateOrders)\n",
      "Order Id\n",
      "Order Item Cardprod Id\n",
      "Order Item Discount\n",
      "Order Item Discount Rate\n",
      "Order Item Id\n",
      "Order Item Product Price\n",
      "Order Item Profit Ratio\n",
      "Order Item Quantity\n",
      "Sales\n",
      "Order Item Total\n",
      "Order Profit Per Order\n",
      "Order Region\n",
      "Order State\n",
      "Order Status\n",
      "Order Zipcode\n",
      "Product Card Id\n",
      "Product Category Id\n",
      "Product Description\n",
      "Product Image\n",
      "Product Name\n",
      "Product Price\n",
      "Product Status\n",
      "shipping date (DateOrders)\n",
      "Shipping Mode\n"
     ]
    }
   ],
   "source": [
    "#Display all columns of the supply chain dataset\n",
    "column_names = supply_chain_df.columns\n",
    "for i in range(0,len(column_names)):\n",
    "    print(column_names[i])"
   ]
  },
  {
   "cell_type": "code",
   "execution_count": 7,
   "id": "6fcbf41d",
   "metadata": {},
   "outputs": [],
   "source": [
    "#Create a subset of supply chain dataframe with most relevant variables for the ease of analysis\n",
    "supply_chain_variables = ['Order Id','Type','Days for shipping (real)','Days for shipment (scheduled)','Benefit per order','Late_delivery_risk','order date (DateOrders)','Order Item Discount','Order Item Quantity','Sales','Order Status','Product Status','shipping date (DateOrders)','Shipping Mode']\n",
    "supply_chain_sub = supply_chain_df[supply_chain_variables]"
   ]
  },
  {
   "cell_type": "code",
   "execution_count": 8,
   "id": "ff65000e",
   "metadata": {
    "scrolled": true
   },
   "outputs": [
    {
     "data": {
      "text/html": [
       "<div>\n",
       "<style scoped>\n",
       "    .dataframe tbody tr th:only-of-type {\n",
       "        vertical-align: middle;\n",
       "    }\n",
       "\n",
       "    .dataframe tbody tr th {\n",
       "        vertical-align: top;\n",
       "    }\n",
       "\n",
       "    .dataframe thead th {\n",
       "        text-align: right;\n",
       "    }\n",
       "</style>\n",
       "<table border=\"1\" class=\"dataframe\">\n",
       "  <thead>\n",
       "    <tr style=\"text-align: right;\">\n",
       "      <th></th>\n",
       "      <th>Order Id</th>\n",
       "      <th>Type</th>\n",
       "      <th>Days for shipping (real)</th>\n",
       "      <th>Days for shipment (scheduled)</th>\n",
       "      <th>Benefit per order</th>\n",
       "      <th>Late_delivery_risk</th>\n",
       "      <th>order date (DateOrders)</th>\n",
       "      <th>Order Item Discount</th>\n",
       "      <th>Order Item Quantity</th>\n",
       "      <th>Sales</th>\n",
       "      <th>Order Status</th>\n",
       "      <th>Product Status</th>\n",
       "      <th>shipping date (DateOrders)</th>\n",
       "      <th>Shipping Mode</th>\n",
       "    </tr>\n",
       "  </thead>\n",
       "  <tbody>\n",
       "    <tr>\n",
       "      <th>0</th>\n",
       "      <td>77202</td>\n",
       "      <td>DEBIT</td>\n",
       "      <td>3</td>\n",
       "      <td>4</td>\n",
       "      <td>91.250000</td>\n",
       "      <td>0</td>\n",
       "      <td>1/31/2018 22:56</td>\n",
       "      <td>13.110000</td>\n",
       "      <td>1</td>\n",
       "      <td>327.75</td>\n",
       "      <td>COMPLETE</td>\n",
       "      <td>0</td>\n",
       "      <td>2/3/2018 22:56</td>\n",
       "      <td>Standard Class</td>\n",
       "    </tr>\n",
       "    <tr>\n",
       "      <th>1</th>\n",
       "      <td>75939</td>\n",
       "      <td>TRANSFER</td>\n",
       "      <td>5</td>\n",
       "      <td>4</td>\n",
       "      <td>-249.089996</td>\n",
       "      <td>1</td>\n",
       "      <td>1/13/2018 12:27</td>\n",
       "      <td>16.389999</td>\n",
       "      <td>1</td>\n",
       "      <td>327.75</td>\n",
       "      <td>PENDING</td>\n",
       "      <td>0</td>\n",
       "      <td>1/18/2018 12:27</td>\n",
       "      <td>Standard Class</td>\n",
       "    </tr>\n",
       "    <tr>\n",
       "      <th>2</th>\n",
       "      <td>75938</td>\n",
       "      <td>CASH</td>\n",
       "      <td>4</td>\n",
       "      <td>4</td>\n",
       "      <td>-247.779999</td>\n",
       "      <td>0</td>\n",
       "      <td>1/13/2018 12:06</td>\n",
       "      <td>18.030001</td>\n",
       "      <td>1</td>\n",
       "      <td>327.75</td>\n",
       "      <td>CLOSED</td>\n",
       "      <td>0</td>\n",
       "      <td>1/17/2018 12:06</td>\n",
       "      <td>Standard Class</td>\n",
       "    </tr>\n",
       "    <tr>\n",
       "      <th>3</th>\n",
       "      <td>75937</td>\n",
       "      <td>DEBIT</td>\n",
       "      <td>3</td>\n",
       "      <td>4</td>\n",
       "      <td>22.860001</td>\n",
       "      <td>0</td>\n",
       "      <td>1/13/2018 11:45</td>\n",
       "      <td>22.940001</td>\n",
       "      <td>1</td>\n",
       "      <td>327.75</td>\n",
       "      <td>COMPLETE</td>\n",
       "      <td>0</td>\n",
       "      <td>1/16/2018 11:45</td>\n",
       "      <td>Standard Class</td>\n",
       "    </tr>\n",
       "    <tr>\n",
       "      <th>4</th>\n",
       "      <td>75936</td>\n",
       "      <td>PAYMENT</td>\n",
       "      <td>2</td>\n",
       "      <td>4</td>\n",
       "      <td>134.210007</td>\n",
       "      <td>0</td>\n",
       "      <td>1/13/2018 11:24</td>\n",
       "      <td>29.500000</td>\n",
       "      <td>1</td>\n",
       "      <td>327.75</td>\n",
       "      <td>PENDING_PAYMENT</td>\n",
       "      <td>0</td>\n",
       "      <td>1/15/2018 11:24</td>\n",
       "      <td>Standard Class</td>\n",
       "    </tr>\n",
       "  </tbody>\n",
       "</table>\n",
       "</div>"
      ],
      "text/plain": [
       "   Order Id      Type  Days for shipping (real)  \\\n",
       "0     77202     DEBIT                         3   \n",
       "1     75939  TRANSFER                         5   \n",
       "2     75938      CASH                         4   \n",
       "3     75937     DEBIT                         3   \n",
       "4     75936   PAYMENT                         2   \n",
       "\n",
       "   Days for shipment (scheduled)  Benefit per order  Late_delivery_risk  \\\n",
       "0                              4          91.250000                   0   \n",
       "1                              4        -249.089996                   1   \n",
       "2                              4        -247.779999                   0   \n",
       "3                              4          22.860001                   0   \n",
       "4                              4         134.210007                   0   \n",
       "\n",
       "  order date (DateOrders)  Order Item Discount  Order Item Quantity   Sales  \\\n",
       "0         1/31/2018 22:56            13.110000                    1  327.75   \n",
       "1         1/13/2018 12:27            16.389999                    1  327.75   \n",
       "2         1/13/2018 12:06            18.030001                    1  327.75   \n",
       "3         1/13/2018 11:45            22.940001                    1  327.75   \n",
       "4         1/13/2018 11:24            29.500000                    1  327.75   \n",
       "\n",
       "      Order Status  Product Status shipping date (DateOrders)   Shipping Mode  \n",
       "0         COMPLETE               0             2/3/2018 22:56  Standard Class  \n",
       "1          PENDING               0            1/18/2018 12:27  Standard Class  \n",
       "2           CLOSED               0            1/17/2018 12:06  Standard Class  \n",
       "3         COMPLETE               0            1/16/2018 11:45  Standard Class  \n",
       "4  PENDING_PAYMENT               0            1/15/2018 11:24  Standard Class  "
      ]
     },
     "execution_count": 8,
     "metadata": {},
     "output_type": "execute_result"
    }
   ],
   "source": [
    "#Preview records of the subset of supply chain dataframe \n",
    "supply_chain_sub.head()"
   ]
  },
  {
   "cell_type": "markdown",
   "id": "0a7627f1",
   "metadata": {},
   "source": [
    "The order status of importance for our analysis are: Complete and Closed as the project is focused on analysing the orders that has been completed and determining the late delivery risk based on the historic data of the completed orders."
   ]
  },
  {
   "cell_type": "code",
   "execution_count": 9,
   "id": "f01ce699",
   "metadata": {},
   "outputs": [],
   "source": [
    "#Filter and select dataframe based on relevant order status\n",
    "supply_chain_df2 = supply_chain_sub[(supply_chain_sub['Order Status']=='COMPLETE') |(supply_chain_sub['Order Status']=='CLOSED')]"
   ]
  },
  {
   "cell_type": "code",
   "execution_count": 10,
   "id": "f520f16d",
   "metadata": {
    "scrolled": false
   },
   "outputs": [
    {
     "data": {
      "text/html": [
       "<div>\n",
       "<style scoped>\n",
       "    .dataframe tbody tr th:only-of-type {\n",
       "        vertical-align: middle;\n",
       "    }\n",
       "\n",
       "    .dataframe tbody tr th {\n",
       "        vertical-align: top;\n",
       "    }\n",
       "\n",
       "    .dataframe thead th {\n",
       "        text-align: right;\n",
       "    }\n",
       "</style>\n",
       "<table border=\"1\" class=\"dataframe\">\n",
       "  <thead>\n",
       "    <tr style=\"text-align: right;\">\n",
       "      <th></th>\n",
       "      <th>Order Id</th>\n",
       "      <th>Type</th>\n",
       "      <th>Days for shipping (real)</th>\n",
       "      <th>Days for shipment (scheduled)</th>\n",
       "      <th>Benefit per order</th>\n",
       "      <th>Late_delivery_risk</th>\n",
       "      <th>order date (DateOrders)</th>\n",
       "      <th>Order Item Discount</th>\n",
       "      <th>Order Item Quantity</th>\n",
       "      <th>Sales</th>\n",
       "      <th>Order Status</th>\n",
       "      <th>Product Status</th>\n",
       "      <th>shipping date (DateOrders)</th>\n",
       "      <th>Shipping Mode</th>\n",
       "    </tr>\n",
       "  </thead>\n",
       "  <tbody>\n",
       "    <tr>\n",
       "      <th>0</th>\n",
       "      <td>77202</td>\n",
       "      <td>DEBIT</td>\n",
       "      <td>3</td>\n",
       "      <td>4</td>\n",
       "      <td>91.250000</td>\n",
       "      <td>0</td>\n",
       "      <td>1/31/2018 22:56</td>\n",
       "      <td>13.110000</td>\n",
       "      <td>1</td>\n",
       "      <td>327.75</td>\n",
       "      <td>COMPLETE</td>\n",
       "      <td>0</td>\n",
       "      <td>2/3/2018 22:56</td>\n",
       "      <td>Standard Class</td>\n",
       "    </tr>\n",
       "    <tr>\n",
       "      <th>2</th>\n",
       "      <td>75938</td>\n",
       "      <td>CASH</td>\n",
       "      <td>4</td>\n",
       "      <td>4</td>\n",
       "      <td>-247.779999</td>\n",
       "      <td>0</td>\n",
       "      <td>1/13/2018 12:06</td>\n",
       "      <td>18.030001</td>\n",
       "      <td>1</td>\n",
       "      <td>327.75</td>\n",
       "      <td>CLOSED</td>\n",
       "      <td>0</td>\n",
       "      <td>1/17/2018 12:06</td>\n",
       "      <td>Standard Class</td>\n",
       "    </tr>\n",
       "    <tr>\n",
       "      <th>3</th>\n",
       "      <td>75937</td>\n",
       "      <td>DEBIT</td>\n",
       "      <td>3</td>\n",
       "      <td>4</td>\n",
       "      <td>22.860001</td>\n",
       "      <td>0</td>\n",
       "      <td>1/13/2018 11:45</td>\n",
       "      <td>22.940001</td>\n",
       "      <td>1</td>\n",
       "      <td>327.75</td>\n",
       "      <td>COMPLETE</td>\n",
       "      <td>0</td>\n",
       "      <td>1/16/2018 11:45</td>\n",
       "      <td>Standard Class</td>\n",
       "    </tr>\n",
       "    <tr>\n",
       "      <th>6</th>\n",
       "      <td>75934</td>\n",
       "      <td>DEBIT</td>\n",
       "      <td>2</td>\n",
       "      <td>1</td>\n",
       "      <td>95.180000</td>\n",
       "      <td>1</td>\n",
       "      <td>1/13/2018 10:42</td>\n",
       "      <td>39.330002</td>\n",
       "      <td>1</td>\n",
       "      <td>327.75</td>\n",
       "      <td>COMPLETE</td>\n",
       "      <td>0</td>\n",
       "      <td>1/15/2018 10:42</td>\n",
       "      <td>First Class</td>\n",
       "    </tr>\n",
       "    <tr>\n",
       "      <th>8</th>\n",
       "      <td>75932</td>\n",
       "      <td>CASH</td>\n",
       "      <td>3</td>\n",
       "      <td>2</td>\n",
       "      <td>133.720001</td>\n",
       "      <td>1</td>\n",
       "      <td>1/13/2018 10:00</td>\n",
       "      <td>49.160000</td>\n",
       "      <td>1</td>\n",
       "      <td>327.75</td>\n",
       "      <td>CLOSED</td>\n",
       "      <td>0</td>\n",
       "      <td>1/16/2018 10:00</td>\n",
       "      <td>Second Class</td>\n",
       "    </tr>\n",
       "  </tbody>\n",
       "</table>\n",
       "</div>"
      ],
      "text/plain": [
       "   Order Id   Type  Days for shipping (real)  Days for shipment (scheduled)  \\\n",
       "0     77202  DEBIT                         3                              4   \n",
       "2     75938   CASH                         4                              4   \n",
       "3     75937  DEBIT                         3                              4   \n",
       "6     75934  DEBIT                         2                              1   \n",
       "8     75932   CASH                         3                              2   \n",
       "\n",
       "   Benefit per order  Late_delivery_risk order date (DateOrders)  \\\n",
       "0          91.250000                   0         1/31/2018 22:56   \n",
       "2        -247.779999                   0         1/13/2018 12:06   \n",
       "3          22.860001                   0         1/13/2018 11:45   \n",
       "6          95.180000                   1         1/13/2018 10:42   \n",
       "8         133.720001                   1         1/13/2018 10:00   \n",
       "\n",
       "   Order Item Discount  Order Item Quantity   Sales Order Status  \\\n",
       "0            13.110000                    1  327.75     COMPLETE   \n",
       "2            18.030001                    1  327.75       CLOSED   \n",
       "3            22.940001                    1  327.75     COMPLETE   \n",
       "6            39.330002                    1  327.75     COMPLETE   \n",
       "8            49.160000                    1  327.75       CLOSED   \n",
       "\n",
       "   Product Status shipping date (DateOrders)   Shipping Mode  \n",
       "0               0             2/3/2018 22:56  Standard Class  \n",
       "2               0            1/17/2018 12:06  Standard Class  \n",
       "3               0            1/16/2018 11:45  Standard Class  \n",
       "6               0            1/15/2018 10:42     First Class  \n",
       "8               0            1/16/2018 10:00    Second Class  "
      ]
     },
     "execution_count": 10,
     "metadata": {},
     "output_type": "execute_result"
    }
   ],
   "source": [
    "supply_chain_df2.head()"
   ]
  },
  {
   "cell_type": "code",
   "execution_count": 11,
   "id": "0ee0b45c",
   "metadata": {
    "scrolled": true
   },
   "outputs": [
    {
     "name": "stdout",
     "output_type": "stream",
     "text": [
      "Empty DataFrame\n",
      "Columns: [Order Id, Type, Days for shipping (real), Days for shipment (scheduled), Benefit per order, Late_delivery_risk, order date (DateOrders), Order Item Discount, Order Item Quantity, Sales, Order Status, Product Status, shipping date (DateOrders), Shipping Mode]\n",
      "Index: []\n"
     ]
    }
   ],
   "source": [
    "#Select and display the duplicate rows of the dataframe\n",
    "duplicate_df = supply_chain_df2[supply_chain_df2.duplicated(keep=False)]\n",
    "print(duplicate_df)"
   ]
  },
  {
   "cell_type": "code",
   "execution_count": 12,
   "id": "1f5abd3d",
   "metadata": {},
   "outputs": [
    {
     "name": "stderr",
     "output_type": "stream",
     "text": [
      "C:\\Users\\gouth\\AppData\\Local\\Temp\\ipykernel_22792\\3000357914.py:5: SettingWithCopyWarning: \n",
      "A value is trying to be set on a copy of a slice from a DataFrame.\n",
      "Try using .loc[row_indexer,col_indexer] = value instead\n",
      "\n",
      "See the caveats in the documentation: https://pandas.pydata.org/pandas-docs/stable/user_guide/indexing.html#returning-a-view-versus-a-copy\n",
      "  supply_chain_df2['Shedule_Mismatch'] = supply_chain_df2.apply(lambda row: '1' if row['Days for shipping (real)'] > row['Days for shipment (scheduled)'] else '0', axis=1)\n"
     ]
    }
   ],
   "source": [
    "#Introduce a categorical variable - Shedule_Mismatch.\n",
    "# 0 represents days of shipment (scheduled) >= days of shipment (real) \n",
    "# 1 represents days of shipment (scheduled) < days of shipment (real) \n",
    "\n",
    "supply_chain_df2['Shedule_Mismatch'] = supply_chain_df2.apply(lambda row: '1' if row['Days for shipping (real)'] > row['Days for shipment (scheduled)'] else '0', axis=1)\n",
    " "
   ]
  },
  {
   "cell_type": "code",
   "execution_count": 13,
   "id": "14c70d4f",
   "metadata": {
    "scrolled": false
   },
   "outputs": [
    {
     "data": {
      "text/html": [
       "<div>\n",
       "<style scoped>\n",
       "    .dataframe tbody tr th:only-of-type {\n",
       "        vertical-align: middle;\n",
       "    }\n",
       "\n",
       "    .dataframe tbody tr th {\n",
       "        vertical-align: top;\n",
       "    }\n",
       "\n",
       "    .dataframe thead th {\n",
       "        text-align: right;\n",
       "    }\n",
       "</style>\n",
       "<table border=\"1\" class=\"dataframe\">\n",
       "  <thead>\n",
       "    <tr style=\"text-align: right;\">\n",
       "      <th></th>\n",
       "      <th>Order Id</th>\n",
       "      <th>Type</th>\n",
       "      <th>Days for shipping (real)</th>\n",
       "      <th>Days for shipment (scheduled)</th>\n",
       "      <th>Benefit per order</th>\n",
       "      <th>Late_delivery_risk</th>\n",
       "      <th>order date (DateOrders)</th>\n",
       "      <th>Order Item Discount</th>\n",
       "      <th>Order Item Quantity</th>\n",
       "      <th>Sales</th>\n",
       "      <th>Order Status</th>\n",
       "      <th>Product Status</th>\n",
       "      <th>shipping date (DateOrders)</th>\n",
       "      <th>Shipping Mode</th>\n",
       "      <th>Shedule_Mismatch</th>\n",
       "    </tr>\n",
       "  </thead>\n",
       "  <tbody>\n",
       "    <tr>\n",
       "      <th>0</th>\n",
       "      <td>77202</td>\n",
       "      <td>DEBIT</td>\n",
       "      <td>3</td>\n",
       "      <td>4</td>\n",
       "      <td>91.250000</td>\n",
       "      <td>0</td>\n",
       "      <td>1/31/2018 22:56</td>\n",
       "      <td>13.110000</td>\n",
       "      <td>1</td>\n",
       "      <td>327.75</td>\n",
       "      <td>COMPLETE</td>\n",
       "      <td>0</td>\n",
       "      <td>2/3/2018 22:56</td>\n",
       "      <td>Standard Class</td>\n",
       "      <td>0</td>\n",
       "    </tr>\n",
       "    <tr>\n",
       "      <th>2</th>\n",
       "      <td>75938</td>\n",
       "      <td>CASH</td>\n",
       "      <td>4</td>\n",
       "      <td>4</td>\n",
       "      <td>-247.779999</td>\n",
       "      <td>0</td>\n",
       "      <td>1/13/2018 12:06</td>\n",
       "      <td>18.030001</td>\n",
       "      <td>1</td>\n",
       "      <td>327.75</td>\n",
       "      <td>CLOSED</td>\n",
       "      <td>0</td>\n",
       "      <td>1/17/2018 12:06</td>\n",
       "      <td>Standard Class</td>\n",
       "      <td>0</td>\n",
       "    </tr>\n",
       "    <tr>\n",
       "      <th>3</th>\n",
       "      <td>75937</td>\n",
       "      <td>DEBIT</td>\n",
       "      <td>3</td>\n",
       "      <td>4</td>\n",
       "      <td>22.860001</td>\n",
       "      <td>0</td>\n",
       "      <td>1/13/2018 11:45</td>\n",
       "      <td>22.940001</td>\n",
       "      <td>1</td>\n",
       "      <td>327.75</td>\n",
       "      <td>COMPLETE</td>\n",
       "      <td>0</td>\n",
       "      <td>1/16/2018 11:45</td>\n",
       "      <td>Standard Class</td>\n",
       "      <td>0</td>\n",
       "    </tr>\n",
       "    <tr>\n",
       "      <th>6</th>\n",
       "      <td>75934</td>\n",
       "      <td>DEBIT</td>\n",
       "      <td>2</td>\n",
       "      <td>1</td>\n",
       "      <td>95.180000</td>\n",
       "      <td>1</td>\n",
       "      <td>1/13/2018 10:42</td>\n",
       "      <td>39.330002</td>\n",
       "      <td>1</td>\n",
       "      <td>327.75</td>\n",
       "      <td>COMPLETE</td>\n",
       "      <td>0</td>\n",
       "      <td>1/15/2018 10:42</td>\n",
       "      <td>First Class</td>\n",
       "      <td>1</td>\n",
       "    </tr>\n",
       "    <tr>\n",
       "      <th>8</th>\n",
       "      <td>75932</td>\n",
       "      <td>CASH</td>\n",
       "      <td>3</td>\n",
       "      <td>2</td>\n",
       "      <td>133.720001</td>\n",
       "      <td>1</td>\n",
       "      <td>1/13/2018 10:00</td>\n",
       "      <td>49.160000</td>\n",
       "      <td>1</td>\n",
       "      <td>327.75</td>\n",
       "      <td>CLOSED</td>\n",
       "      <td>0</td>\n",
       "      <td>1/16/2018 10:00</td>\n",
       "      <td>Second Class</td>\n",
       "      <td>1</td>\n",
       "    </tr>\n",
       "  </tbody>\n",
       "</table>\n",
       "</div>"
      ],
      "text/plain": [
       "   Order Id   Type  Days for shipping (real)  Days for shipment (scheduled)  \\\n",
       "0     77202  DEBIT                         3                              4   \n",
       "2     75938   CASH                         4                              4   \n",
       "3     75937  DEBIT                         3                              4   \n",
       "6     75934  DEBIT                         2                              1   \n",
       "8     75932   CASH                         3                              2   \n",
       "\n",
       "   Benefit per order  Late_delivery_risk order date (DateOrders)  \\\n",
       "0          91.250000                   0         1/31/2018 22:56   \n",
       "2        -247.779999                   0         1/13/2018 12:06   \n",
       "3          22.860001                   0         1/13/2018 11:45   \n",
       "6          95.180000                   1         1/13/2018 10:42   \n",
       "8         133.720001                   1         1/13/2018 10:00   \n",
       "\n",
       "   Order Item Discount  Order Item Quantity   Sales Order Status  \\\n",
       "0            13.110000                    1  327.75     COMPLETE   \n",
       "2            18.030001                    1  327.75       CLOSED   \n",
       "3            22.940001                    1  327.75     COMPLETE   \n",
       "6            39.330002                    1  327.75     COMPLETE   \n",
       "8            49.160000                    1  327.75       CLOSED   \n",
       "\n",
       "   Product Status shipping date (DateOrders)   Shipping Mode Shedule_Mismatch  \n",
       "0               0             2/3/2018 22:56  Standard Class                0  \n",
       "2               0            1/17/2018 12:06  Standard Class                0  \n",
       "3               0            1/16/2018 11:45  Standard Class                0  \n",
       "6               0            1/15/2018 10:42     First Class                1  \n",
       "8               0            1/16/2018 10:00    Second Class                1  "
      ]
     },
     "execution_count": 13,
     "metadata": {},
     "output_type": "execute_result"
    }
   ],
   "source": [
    "supply_chain_df2.head()"
   ]
  },
  {
   "cell_type": "code",
   "execution_count": 14,
   "id": "45a005e2",
   "metadata": {},
   "outputs": [
    {
     "name": "stderr",
     "output_type": "stream",
     "text": [
      "C:\\Users\\gouth\\AppData\\Local\\Temp\\ipykernel_22792\\598312051.py:2: SettingWithCopyWarning: \n",
      "A value is trying to be set on a copy of a slice from a DataFrame.\n",
      "Try using .loc[row_indexer,col_indexer] = value instead\n",
      "\n",
      "See the caveats in the documentation: https://pandas.pydata.org/pandas-docs/stable/user_guide/indexing.html#returning-a-view-versus-a-copy\n",
      "  supply_chain_df2['order date (DateOrders)'] = pd.to_datetime(supply_chain_df2['order date (DateOrders)'])\n",
      "C:\\Users\\gouth\\AppData\\Local\\Temp\\ipykernel_22792\\598312051.py:3: SettingWithCopyWarning: \n",
      "A value is trying to be set on a copy of a slice from a DataFrame.\n",
      "Try using .loc[row_indexer,col_indexer] = value instead\n",
      "\n",
      "See the caveats in the documentation: https://pandas.pydata.org/pandas-docs/stable/user_guide/indexing.html#returning-a-view-versus-a-copy\n",
      "  supply_chain_df2['shipping date (DateOrders)'] = pd.to_datetime(supply_chain_df2['shipping date (DateOrders)'])\n",
      "C:\\Users\\gouth\\AppData\\Local\\Temp\\ipykernel_22792\\598312051.py:6: SettingWithCopyWarning: \n",
      "A value is trying to be set on a copy of a slice from a DataFrame.\n",
      "Try using .loc[row_indexer,col_indexer] = value instead\n",
      "\n",
      "See the caveats in the documentation: https://pandas.pydata.org/pandas-docs/stable/user_guide/indexing.html#returning-a-view-versus-a-copy\n",
      "  supply_chain_df2['Order_to_Shipping_duration'] = supply_chain_df2.apply(lambda row: (row['shipping date (DateOrders)'] - row['order date (DateOrders)']).days, axis=1)\n"
     ]
    }
   ],
   "source": [
    "#Convert \"order date (DateOrders)\" and \"shipping date (DateOrders)\" column data into date variables\n",
    "supply_chain_df2['order date (DateOrders)'] = pd.to_datetime(supply_chain_df2['order date (DateOrders)'])  \n",
    "supply_chain_df2['shipping date (DateOrders)'] = pd.to_datetime(supply_chain_df2['shipping date (DateOrders)'])\n",
    "\n",
    "#Introduce a new variable Order_to_Shipping_duration which calculates the duration between order date and shipping date\n",
    "supply_chain_df2['Order_to_Shipping_duration'] = supply_chain_df2.apply(lambda row: (row['shipping date (DateOrders)'] - row['order date (DateOrders)']).days, axis=1)"
   ]
  },
  {
   "cell_type": "code",
   "execution_count": 15,
   "id": "35c672c6",
   "metadata": {
    "scrolled": true
   },
   "outputs": [
    {
     "data": {
      "text/html": [
       "<div>\n",
       "<style scoped>\n",
       "    .dataframe tbody tr th:only-of-type {\n",
       "        vertical-align: middle;\n",
       "    }\n",
       "\n",
       "    .dataframe tbody tr th {\n",
       "        vertical-align: top;\n",
       "    }\n",
       "\n",
       "    .dataframe thead th {\n",
       "        text-align: right;\n",
       "    }\n",
       "</style>\n",
       "<table border=\"1\" class=\"dataframe\">\n",
       "  <thead>\n",
       "    <tr style=\"text-align: right;\">\n",
       "      <th></th>\n",
       "      <th>Order Id</th>\n",
       "      <th>Type</th>\n",
       "      <th>Days for shipping (real)</th>\n",
       "      <th>Days for shipment (scheduled)</th>\n",
       "      <th>Benefit per order</th>\n",
       "      <th>Late_delivery_risk</th>\n",
       "      <th>order date (DateOrders)</th>\n",
       "      <th>Order Item Discount</th>\n",
       "      <th>Order Item Quantity</th>\n",
       "      <th>Sales</th>\n",
       "      <th>Order Status</th>\n",
       "      <th>Product Status</th>\n",
       "      <th>shipping date (DateOrders)</th>\n",
       "      <th>Shipping Mode</th>\n",
       "      <th>Shedule_Mismatch</th>\n",
       "      <th>Order_to_Shipping_duration</th>\n",
       "    </tr>\n",
       "  </thead>\n",
       "  <tbody>\n",
       "    <tr>\n",
       "      <th>0</th>\n",
       "      <td>77202</td>\n",
       "      <td>DEBIT</td>\n",
       "      <td>3</td>\n",
       "      <td>4</td>\n",
       "      <td>91.250000</td>\n",
       "      <td>0</td>\n",
       "      <td>2018-01-31 22:56:00</td>\n",
       "      <td>13.110000</td>\n",
       "      <td>1</td>\n",
       "      <td>327.75</td>\n",
       "      <td>COMPLETE</td>\n",
       "      <td>0</td>\n",
       "      <td>2018-02-03 22:56:00</td>\n",
       "      <td>Standard Class</td>\n",
       "      <td>0</td>\n",
       "      <td>3</td>\n",
       "    </tr>\n",
       "    <tr>\n",
       "      <th>2</th>\n",
       "      <td>75938</td>\n",
       "      <td>CASH</td>\n",
       "      <td>4</td>\n",
       "      <td>4</td>\n",
       "      <td>-247.779999</td>\n",
       "      <td>0</td>\n",
       "      <td>2018-01-13 12:06:00</td>\n",
       "      <td>18.030001</td>\n",
       "      <td>1</td>\n",
       "      <td>327.75</td>\n",
       "      <td>CLOSED</td>\n",
       "      <td>0</td>\n",
       "      <td>2018-01-17 12:06:00</td>\n",
       "      <td>Standard Class</td>\n",
       "      <td>0</td>\n",
       "      <td>4</td>\n",
       "    </tr>\n",
       "    <tr>\n",
       "      <th>3</th>\n",
       "      <td>75937</td>\n",
       "      <td>DEBIT</td>\n",
       "      <td>3</td>\n",
       "      <td>4</td>\n",
       "      <td>22.860001</td>\n",
       "      <td>0</td>\n",
       "      <td>2018-01-13 11:45:00</td>\n",
       "      <td>22.940001</td>\n",
       "      <td>1</td>\n",
       "      <td>327.75</td>\n",
       "      <td>COMPLETE</td>\n",
       "      <td>0</td>\n",
       "      <td>2018-01-16 11:45:00</td>\n",
       "      <td>Standard Class</td>\n",
       "      <td>0</td>\n",
       "      <td>3</td>\n",
       "    </tr>\n",
       "    <tr>\n",
       "      <th>6</th>\n",
       "      <td>75934</td>\n",
       "      <td>DEBIT</td>\n",
       "      <td>2</td>\n",
       "      <td>1</td>\n",
       "      <td>95.180000</td>\n",
       "      <td>1</td>\n",
       "      <td>2018-01-13 10:42:00</td>\n",
       "      <td>39.330002</td>\n",
       "      <td>1</td>\n",
       "      <td>327.75</td>\n",
       "      <td>COMPLETE</td>\n",
       "      <td>0</td>\n",
       "      <td>2018-01-15 10:42:00</td>\n",
       "      <td>First Class</td>\n",
       "      <td>1</td>\n",
       "      <td>2</td>\n",
       "    </tr>\n",
       "    <tr>\n",
       "      <th>8</th>\n",
       "      <td>75932</td>\n",
       "      <td>CASH</td>\n",
       "      <td>3</td>\n",
       "      <td>2</td>\n",
       "      <td>133.720001</td>\n",
       "      <td>1</td>\n",
       "      <td>2018-01-13 10:00:00</td>\n",
       "      <td>49.160000</td>\n",
       "      <td>1</td>\n",
       "      <td>327.75</td>\n",
       "      <td>CLOSED</td>\n",
       "      <td>0</td>\n",
       "      <td>2018-01-16 10:00:00</td>\n",
       "      <td>Second Class</td>\n",
       "      <td>1</td>\n",
       "      <td>3</td>\n",
       "    </tr>\n",
       "  </tbody>\n",
       "</table>\n",
       "</div>"
      ],
      "text/plain": [
       "   Order Id   Type  Days for shipping (real)  Days for shipment (scheduled)  \\\n",
       "0     77202  DEBIT                         3                              4   \n",
       "2     75938   CASH                         4                              4   \n",
       "3     75937  DEBIT                         3                              4   \n",
       "6     75934  DEBIT                         2                              1   \n",
       "8     75932   CASH                         3                              2   \n",
       "\n",
       "   Benefit per order  Late_delivery_risk order date (DateOrders)  \\\n",
       "0          91.250000                   0     2018-01-31 22:56:00   \n",
       "2        -247.779999                   0     2018-01-13 12:06:00   \n",
       "3          22.860001                   0     2018-01-13 11:45:00   \n",
       "6          95.180000                   1     2018-01-13 10:42:00   \n",
       "8         133.720001                   1     2018-01-13 10:00:00   \n",
       "\n",
       "   Order Item Discount  Order Item Quantity   Sales Order Status  \\\n",
       "0            13.110000                    1  327.75     COMPLETE   \n",
       "2            18.030001                    1  327.75       CLOSED   \n",
       "3            22.940001                    1  327.75     COMPLETE   \n",
       "6            39.330002                    1  327.75     COMPLETE   \n",
       "8            49.160000                    1  327.75       CLOSED   \n",
       "\n",
       "   Product Status shipping date (DateOrders)   Shipping Mode Shedule_Mismatch  \\\n",
       "0               0        2018-02-03 22:56:00  Standard Class                0   \n",
       "2               0        2018-01-17 12:06:00  Standard Class                0   \n",
       "3               0        2018-01-16 11:45:00  Standard Class                0   \n",
       "6               0        2018-01-15 10:42:00     First Class                1   \n",
       "8               0        2018-01-16 10:00:00    Second Class                1   \n",
       "\n",
       "   Order_to_Shipping_duration  \n",
       "0                           3  \n",
       "2                           4  \n",
       "3                           3  \n",
       "6                           2  \n",
       "8                           3  "
      ]
     },
     "execution_count": 15,
     "metadata": {},
     "output_type": "execute_result"
    }
   ],
   "source": [
    "supply_chain_df2.head()"
   ]
  },
  {
   "cell_type": "markdown",
   "id": "7bbc47da",
   "metadata": {},
   "source": [
    "# DATA PRE-PROCESSING"
   ]
  },
  {
   "cell_type": "markdown",
   "id": "4ea2d265",
   "metadata": {},
   "source": [
    "### HANDLING MISSING VALUE"
   ]
  },
  {
   "cell_type": "code",
   "execution_count": 16,
   "id": "a810a042",
   "metadata": {},
   "outputs": [
    {
     "name": "stdout",
     "output_type": "stream",
     "text": [
      "Order Id                         0\n",
      "Type                             0\n",
      "Days for shipping (real)         0\n",
      "Days for shipment (scheduled)    0\n",
      "Benefit per order                0\n",
      "Late_delivery_risk               0\n",
      "order date (DateOrders)          0\n",
      "Order Item Discount              0\n",
      "Order Item Quantity              0\n",
      "Sales                            0\n",
      "Order Status                     0\n",
      "Product Status                   0\n",
      "shipping date (DateOrders)       0\n",
      "Shipping Mode                    0\n",
      "Shedule_Mismatch                 0\n",
      "Order_to_Shipping_duration       0\n",
      "dtype: int64\n"
     ]
    }
   ],
   "source": [
    "#Count the number of null values in different columns of DataFrame\n",
    "null_count = supply_chain_df2.isna().sum()\n",
    "print(null_count)"
   ]
  },
  {
   "cell_type": "markdown",
   "id": "aac7d1b4",
   "metadata": {},
   "source": [
    "### CATEGORICAL VARIABLES"
   ]
  },
  {
   "cell_type": "code",
   "execution_count": 17,
   "id": "dd6ec451",
   "metadata": {},
   "outputs": [
    {
     "name": "stdout",
     "output_type": "stream",
     "text": [
      "Categorical variable: Type\n",
      "Distinct values of the categorical value: ['DEBIT' 'CASH']\n",
      "\n",
      "\n",
      "Categorical variable: Late_delivery_risk\n",
      "Distinct values of the categorical value: [0 1]\n",
      "\n",
      "\n",
      "Categorical variable: Order Status\n",
      "Distinct values of the categorical value: ['COMPLETE' 'CLOSED']\n",
      "\n",
      "\n",
      "Categorical variable: Product Status\n",
      "Distinct values of the categorical value: [0]\n",
      "\n",
      "\n",
      "Categorical variable: Shipping Mode\n",
      "Distinct values of the categorical value: ['Standard Class' 'First Class' 'Second Class' 'Same Day']\n",
      "\n",
      "\n"
     ]
    }
   ],
   "source": [
    "supply_chain_cat_variables = ['Type','Late_delivery_risk','Order Status','Product Status','Shipping Mode']\n",
    "\n",
    "for s in supply_chain_cat_variables :\n",
    "        print(\"Categorical variable:\",s)\n",
    "        print(\"Distinct values of the categorical value:\",supply_chain_df2[s].unique())\n",
    "        print(\"\\n\")"
   ]
  },
  {
   "cell_type": "code",
   "execution_count": 18,
   "id": "06c953fe",
   "metadata": {},
   "outputs": [
    {
     "name": "stderr",
     "output_type": "stream",
     "text": [
      "C:\\Users\\gouth\\AppData\\Local\\Temp\\ipykernel_22792\\1521950742.py:2: SettingWithCopyWarning: \n",
      "A value is trying to be set on a copy of a slice from a DataFrame\n",
      "\n",
      "See the caveats in the documentation: https://pandas.pydata.org/pandas-docs/stable/user_guide/indexing.html#returning-a-view-versus-a-copy\n",
      "  supply_chain_df2.drop(columns=['Product Status'], inplace=True)\n"
     ]
    }
   ],
   "source": [
    "#Drop the Product status column since it has only one type of categorical value hence it is low variation data\n",
    "supply_chain_df2.drop(columns=['Product Status'], inplace=True)"
   ]
  },
  {
   "cell_type": "code",
   "execution_count": 19,
   "id": "18459f66",
   "metadata": {},
   "outputs": [
    {
     "data": {
      "text/html": [
       "<div>\n",
       "<style scoped>\n",
       "    .dataframe tbody tr th:only-of-type {\n",
       "        vertical-align: middle;\n",
       "    }\n",
       "\n",
       "    .dataframe tbody tr th {\n",
       "        vertical-align: top;\n",
       "    }\n",
       "\n",
       "    .dataframe thead th {\n",
       "        text-align: right;\n",
       "    }\n",
       "</style>\n",
       "<table border=\"1\" class=\"dataframe\">\n",
       "  <thead>\n",
       "    <tr style=\"text-align: right;\">\n",
       "      <th></th>\n",
       "      <th>Order Id</th>\n",
       "      <th>Type</th>\n",
       "      <th>Days for shipping (real)</th>\n",
       "      <th>Days for shipment (scheduled)</th>\n",
       "      <th>Benefit per order</th>\n",
       "      <th>Late_delivery_risk</th>\n",
       "      <th>order date (DateOrders)</th>\n",
       "      <th>Order Item Discount</th>\n",
       "      <th>Order Item Quantity</th>\n",
       "      <th>Sales</th>\n",
       "      <th>Order Status</th>\n",
       "      <th>shipping date (DateOrders)</th>\n",
       "      <th>Shipping Mode</th>\n",
       "      <th>Shedule_Mismatch</th>\n",
       "      <th>Order_to_Shipping_duration</th>\n",
       "    </tr>\n",
       "  </thead>\n",
       "  <tbody>\n",
       "    <tr>\n",
       "      <th>0</th>\n",
       "      <td>77202</td>\n",
       "      <td>DEBIT</td>\n",
       "      <td>3</td>\n",
       "      <td>4</td>\n",
       "      <td>91.250000</td>\n",
       "      <td>0</td>\n",
       "      <td>2018-01-31 22:56:00</td>\n",
       "      <td>13.110000</td>\n",
       "      <td>1</td>\n",
       "      <td>327.75</td>\n",
       "      <td>COMPLETE</td>\n",
       "      <td>2018-02-03 22:56:00</td>\n",
       "      <td>Standard Class</td>\n",
       "      <td>0</td>\n",
       "      <td>3</td>\n",
       "    </tr>\n",
       "    <tr>\n",
       "      <th>2</th>\n",
       "      <td>75938</td>\n",
       "      <td>CASH</td>\n",
       "      <td>4</td>\n",
       "      <td>4</td>\n",
       "      <td>-247.779999</td>\n",
       "      <td>0</td>\n",
       "      <td>2018-01-13 12:06:00</td>\n",
       "      <td>18.030001</td>\n",
       "      <td>1</td>\n",
       "      <td>327.75</td>\n",
       "      <td>CLOSED</td>\n",
       "      <td>2018-01-17 12:06:00</td>\n",
       "      <td>Standard Class</td>\n",
       "      <td>0</td>\n",
       "      <td>4</td>\n",
       "    </tr>\n",
       "    <tr>\n",
       "      <th>3</th>\n",
       "      <td>75937</td>\n",
       "      <td>DEBIT</td>\n",
       "      <td>3</td>\n",
       "      <td>4</td>\n",
       "      <td>22.860001</td>\n",
       "      <td>0</td>\n",
       "      <td>2018-01-13 11:45:00</td>\n",
       "      <td>22.940001</td>\n",
       "      <td>1</td>\n",
       "      <td>327.75</td>\n",
       "      <td>COMPLETE</td>\n",
       "      <td>2018-01-16 11:45:00</td>\n",
       "      <td>Standard Class</td>\n",
       "      <td>0</td>\n",
       "      <td>3</td>\n",
       "    </tr>\n",
       "    <tr>\n",
       "      <th>6</th>\n",
       "      <td>75934</td>\n",
       "      <td>DEBIT</td>\n",
       "      <td>2</td>\n",
       "      <td>1</td>\n",
       "      <td>95.180000</td>\n",
       "      <td>1</td>\n",
       "      <td>2018-01-13 10:42:00</td>\n",
       "      <td>39.330002</td>\n",
       "      <td>1</td>\n",
       "      <td>327.75</td>\n",
       "      <td>COMPLETE</td>\n",
       "      <td>2018-01-15 10:42:00</td>\n",
       "      <td>First Class</td>\n",
       "      <td>1</td>\n",
       "      <td>2</td>\n",
       "    </tr>\n",
       "    <tr>\n",
       "      <th>8</th>\n",
       "      <td>75932</td>\n",
       "      <td>CASH</td>\n",
       "      <td>3</td>\n",
       "      <td>2</td>\n",
       "      <td>133.720001</td>\n",
       "      <td>1</td>\n",
       "      <td>2018-01-13 10:00:00</td>\n",
       "      <td>49.160000</td>\n",
       "      <td>1</td>\n",
       "      <td>327.75</td>\n",
       "      <td>CLOSED</td>\n",
       "      <td>2018-01-16 10:00:00</td>\n",
       "      <td>Second Class</td>\n",
       "      <td>1</td>\n",
       "      <td>3</td>\n",
       "    </tr>\n",
       "  </tbody>\n",
       "</table>\n",
       "</div>"
      ],
      "text/plain": [
       "   Order Id   Type  Days for shipping (real)  Days for shipment (scheduled)  \\\n",
       "0     77202  DEBIT                         3                              4   \n",
       "2     75938   CASH                         4                              4   \n",
       "3     75937  DEBIT                         3                              4   \n",
       "6     75934  DEBIT                         2                              1   \n",
       "8     75932   CASH                         3                              2   \n",
       "\n",
       "   Benefit per order  Late_delivery_risk order date (DateOrders)  \\\n",
       "0          91.250000                   0     2018-01-31 22:56:00   \n",
       "2        -247.779999                   0     2018-01-13 12:06:00   \n",
       "3          22.860001                   0     2018-01-13 11:45:00   \n",
       "6          95.180000                   1     2018-01-13 10:42:00   \n",
       "8         133.720001                   1     2018-01-13 10:00:00   \n",
       "\n",
       "   Order Item Discount  Order Item Quantity   Sales Order Status  \\\n",
       "0            13.110000                    1  327.75     COMPLETE   \n",
       "2            18.030001                    1  327.75       CLOSED   \n",
       "3            22.940001                    1  327.75     COMPLETE   \n",
       "6            39.330002                    1  327.75     COMPLETE   \n",
       "8            49.160000                    1  327.75       CLOSED   \n",
       "\n",
       "  shipping date (DateOrders)   Shipping Mode Shedule_Mismatch  \\\n",
       "0        2018-02-03 22:56:00  Standard Class                0   \n",
       "2        2018-01-17 12:06:00  Standard Class                0   \n",
       "3        2018-01-16 11:45:00  Standard Class                0   \n",
       "6        2018-01-15 10:42:00     First Class                1   \n",
       "8        2018-01-16 10:00:00    Second Class                1   \n",
       "\n",
       "   Order_to_Shipping_duration  \n",
       "0                           3  \n",
       "2                           4  \n",
       "3                           3  \n",
       "6                           2  \n",
       "8                           3  "
      ]
     },
     "execution_count": 19,
     "metadata": {},
     "output_type": "execute_result"
    }
   ],
   "source": [
    "supply_chain_df2.head()"
   ]
  },
  {
   "cell_type": "code",
   "execution_count": 20,
   "id": "ee42b0cd",
   "metadata": {},
   "outputs": [
    {
     "data": {
      "text/html": [
       "<div>\n",
       "<style scoped>\n",
       "    .dataframe tbody tr th:only-of-type {\n",
       "        vertical-align: middle;\n",
       "    }\n",
       "\n",
       "    .dataframe tbody tr th {\n",
       "        vertical-align: top;\n",
       "    }\n",
       "\n",
       "    .dataframe thead th {\n",
       "        text-align: right;\n",
       "    }\n",
       "</style>\n",
       "<table border=\"1\" class=\"dataframe\">\n",
       "  <thead>\n",
       "    <tr style=\"text-align: right;\">\n",
       "      <th></th>\n",
       "      <th>Days for shipping (real)</th>\n",
       "      <th>Days for shipment (scheduled)</th>\n",
       "      <th>Benefit per order</th>\n",
       "      <th>Order Item Discount</th>\n",
       "      <th>Order Item Quantity</th>\n",
       "      <th>Sales</th>\n",
       "      <th>Order_to_Shipping_duration</th>\n",
       "    </tr>\n",
       "  </thead>\n",
       "  <tbody>\n",
       "    <tr>\n",
       "      <th>count</th>\n",
       "      <td>79107.000000</td>\n",
       "      <td>79107.000000</td>\n",
       "      <td>79107.000000</td>\n",
       "      <td>79107.000000</td>\n",
       "      <td>79107.000000</td>\n",
       "      <td>79107.000000</td>\n",
       "      <td>79107.000000</td>\n",
       "    </tr>\n",
       "    <tr>\n",
       "      <th>mean</th>\n",
       "      <td>3.483674</td>\n",
       "      <td>2.924975</td>\n",
       "      <td>22.497590</td>\n",
       "      <td>20.746841</td>\n",
       "      <td>2.124742</td>\n",
       "      <td>203.748583</td>\n",
       "      <td>3.457532</td>\n",
       "    </tr>\n",
       "    <tr>\n",
       "      <th>std</th>\n",
       "      <td>1.617102</td>\n",
       "      <td>1.376736</td>\n",
       "      <td>104.320758</td>\n",
       "      <td>21.976412</td>\n",
       "      <td>1.452459</td>\n",
       "      <td>134.209031</td>\n",
       "      <td>1.664432</td>\n",
       "    </tr>\n",
       "    <tr>\n",
       "      <th>min</th>\n",
       "      <td>0.000000</td>\n",
       "      <td>0.000000</td>\n",
       "      <td>-4274.979980</td>\n",
       "      <td>0.000000</td>\n",
       "      <td>1.000000</td>\n",
       "      <td>9.990000</td>\n",
       "      <td>0.000000</td>\n",
       "    </tr>\n",
       "    <tr>\n",
       "      <th>25%</th>\n",
       "      <td>2.000000</td>\n",
       "      <td>2.000000</td>\n",
       "      <td>7.200000</td>\n",
       "      <td>5.400000</td>\n",
       "      <td>1.000000</td>\n",
       "      <td>119.980003</td>\n",
       "      <td>2.000000</td>\n",
       "    </tr>\n",
       "    <tr>\n",
       "      <th>50%</th>\n",
       "      <td>3.000000</td>\n",
       "      <td>4.000000</td>\n",
       "      <td>31.570000</td>\n",
       "      <td>14.000000</td>\n",
       "      <td>1.000000</td>\n",
       "      <td>199.919998</td>\n",
       "      <td>3.000000</td>\n",
       "    </tr>\n",
       "    <tr>\n",
       "      <th>75%</th>\n",
       "      <td>5.000000</td>\n",
       "      <td>4.000000</td>\n",
       "      <td>64.889999</td>\n",
       "      <td>30.000000</td>\n",
       "      <td>3.000000</td>\n",
       "      <td>299.950012</td>\n",
       "      <td>5.000000</td>\n",
       "    </tr>\n",
       "    <tr>\n",
       "      <th>max</th>\n",
       "      <td>6.000000</td>\n",
       "      <td>4.000000</td>\n",
       "      <td>911.799988</td>\n",
       "      <td>500.000000</td>\n",
       "      <td>5.000000</td>\n",
       "      <td>1999.989990</td>\n",
       "      <td>6.000000</td>\n",
       "    </tr>\n",
       "  </tbody>\n",
       "</table>\n",
       "</div>"
      ],
      "text/plain": [
       "       Days for shipping (real)  Days for shipment (scheduled)  \\\n",
       "count              79107.000000                   79107.000000   \n",
       "mean                   3.483674                       2.924975   \n",
       "std                    1.617102                       1.376736   \n",
       "min                    0.000000                       0.000000   \n",
       "25%                    2.000000                       2.000000   \n",
       "50%                    3.000000                       4.000000   \n",
       "75%                    5.000000                       4.000000   \n",
       "max                    6.000000                       4.000000   \n",
       "\n",
       "       Benefit per order  Order Item Discount  Order Item Quantity  \\\n",
       "count       79107.000000         79107.000000         79107.000000   \n",
       "mean           22.497590            20.746841             2.124742   \n",
       "std           104.320758            21.976412             1.452459   \n",
       "min         -4274.979980             0.000000             1.000000   \n",
       "25%             7.200000             5.400000             1.000000   \n",
       "50%            31.570000            14.000000             1.000000   \n",
       "75%            64.889999            30.000000             3.000000   \n",
       "max           911.799988           500.000000             5.000000   \n",
       "\n",
       "              Sales  Order_to_Shipping_duration  \n",
       "count  79107.000000                79107.000000  \n",
       "mean     203.748583                    3.457532  \n",
       "std      134.209031                    1.664432  \n",
       "min        9.990000                    0.000000  \n",
       "25%      119.980003                    2.000000  \n",
       "50%      199.919998                    3.000000  \n",
       "75%      299.950012                    5.000000  \n",
       "max     1999.989990                    6.000000  "
      ]
     },
     "execution_count": 20,
     "metadata": {},
     "output_type": "execute_result"
    }
   ],
   "source": [
    "#Summary Statistics of the subset of supply chain dataset\n",
    "supply_chain_num_var = ['Days for shipping (real)','Days for shipment (scheduled)','Benefit per order','Order Item Discount','Order Item Quantity','Sales','Order_to_Shipping_duration']\n",
    "supply_chain_df2[supply_chain_num_var].describe()"
   ]
  },
  {
   "cell_type": "code",
   "execution_count": 21,
   "id": "f0ba9550",
   "metadata": {},
   "outputs": [
    {
     "name": "stderr",
     "output_type": "stream",
     "text": [
      "C:\\Users\\gouth\\AppData\\Local\\Temp\\ipykernel_22792\\2459481240.py:6: SettingWithCopyWarning: \n",
      "A value is trying to be set on a copy of a slice from a DataFrame.\n",
      "Try using .loc[row_indexer,col_indexer] = value instead\n",
      "\n",
      "See the caveats in the documentation: https://pandas.pydata.org/pandas-docs/stable/user_guide/indexing.html#returning-a-view-versus-a-copy\n",
      "  supply_chain_df2['Days for shipping (real)'] = supply_chain_df2['Days for shipping (real)'].replace(0, mean_1)\n",
      "C:\\Users\\gouth\\AppData\\Local\\Temp\\ipykernel_22792\\2459481240.py:7: SettingWithCopyWarning: \n",
      "A value is trying to be set on a copy of a slice from a DataFrame.\n",
      "Try using .loc[row_indexer,col_indexer] = value instead\n",
      "\n",
      "See the caveats in the documentation: https://pandas.pydata.org/pandas-docs/stable/user_guide/indexing.html#returning-a-view-versus-a-copy\n",
      "  supply_chain_df2['Days for shipment (scheduled)'] = supply_chain_df2['Days for shipment (scheduled)'].replace(0, mean_2)\n",
      "C:\\Users\\gouth\\AppData\\Local\\Temp\\ipykernel_22792\\2459481240.py:10: SettingWithCopyWarning: \n",
      "A value is trying to be set on a copy of a slice from a DataFrame.\n",
      "Try using .loc[row_indexer,col_indexer] = value instead\n",
      "\n",
      "See the caveats in the documentation: https://pandas.pydata.org/pandas-docs/stable/user_guide/indexing.html#returning-a-view-versus-a-copy\n",
      "  supply_chain_df2['Order_to_Shipping_duration'] = supply_chain_df2.apply(lambda row: (row['shipping date (DateOrders)'] - row['order date (DateOrders)']).days, axis=1)\n"
     ]
    }
   ],
   "source": [
    "# Mean of the columns \"Days for shipping (real)\" and \"Days for shipment (scheduled)\"\n",
    "mean_1 = supply_chain_df2[supply_chain_df2['Days for shipping (real)'] != 0]['Days for shipping (real)'].mean()\n",
    "mean_2 = supply_chain_df2[supply_chain_df2['Days for shipment (scheduled)'] != 0]['Days for shipment (scheduled)'].mean()\n",
    "\n",
    "# Impute mean for zero values\n",
    "supply_chain_df2['Days for shipping (real)'] = supply_chain_df2['Days for shipping (real)'].replace(0, mean_1)\n",
    "supply_chain_df2['Days for shipment (scheduled)'] = supply_chain_df2['Days for shipment (scheduled)'].replace(0, mean_2)\n",
    "\n",
    "#Recompute the value of variable Order_to_Shipping_duration\n",
    "supply_chain_df2['Order_to_Shipping_duration'] = supply_chain_df2.apply(lambda row: (row['shipping date (DateOrders)'] - row['order date (DateOrders)']).days, axis=1)\n"
   ]
  },
  {
   "cell_type": "code",
   "execution_count": 22,
   "id": "6177ba84",
   "metadata": {
    "scrolled": true
   },
   "outputs": [
    {
     "data": {
      "text/html": [
       "<div>\n",
       "<style scoped>\n",
       "    .dataframe tbody tr th:only-of-type {\n",
       "        vertical-align: middle;\n",
       "    }\n",
       "\n",
       "    .dataframe tbody tr th {\n",
       "        vertical-align: top;\n",
       "    }\n",
       "\n",
       "    .dataframe thead th {\n",
       "        text-align: right;\n",
       "    }\n",
       "</style>\n",
       "<table border=\"1\" class=\"dataframe\">\n",
       "  <thead>\n",
       "    <tr style=\"text-align: right;\">\n",
       "      <th></th>\n",
       "      <th>Days for shipping (real)</th>\n",
       "      <th>Days for shipment (scheduled)</th>\n",
       "      <th>Benefit per order</th>\n",
       "      <th>Order Item Discount</th>\n",
       "      <th>Order Item Quantity</th>\n",
       "      <th>Sales</th>\n",
       "      <th>Order_to_Shipping_duration</th>\n",
       "    </tr>\n",
       "  </thead>\n",
       "  <tbody>\n",
       "    <tr>\n",
       "      <th>count</th>\n",
       "      <td>79107.000000</td>\n",
       "      <td>79107.000000</td>\n",
       "      <td>79107.000000</td>\n",
       "      <td>79107.000000</td>\n",
       "      <td>79107.000000</td>\n",
       "      <td>79107.000000</td>\n",
       "      <td>79107.000000</td>\n",
       "    </tr>\n",
       "    <tr>\n",
       "      <th>mean</th>\n",
       "      <td>3.584260</td>\n",
       "      <td>3.092610</td>\n",
       "      <td>22.497590</td>\n",
       "      <td>20.746841</td>\n",
       "      <td>2.124742</td>\n",
       "      <td>203.748583</td>\n",
       "      <td>3.457532</td>\n",
       "    </tr>\n",
       "    <tr>\n",
       "      <th>std</th>\n",
       "      <td>1.504861</td>\n",
       "      <td>1.185356</td>\n",
       "      <td>104.320758</td>\n",
       "      <td>21.976412</td>\n",
       "      <td>1.452459</td>\n",
       "      <td>134.209031</td>\n",
       "      <td>1.664432</td>\n",
       "    </tr>\n",
       "    <tr>\n",
       "      <th>min</th>\n",
       "      <td>1.000000</td>\n",
       "      <td>1.000000</td>\n",
       "      <td>-4274.979980</td>\n",
       "      <td>0.000000</td>\n",
       "      <td>1.000000</td>\n",
       "      <td>9.990000</td>\n",
       "      <td>0.000000</td>\n",
       "    </tr>\n",
       "    <tr>\n",
       "      <th>25%</th>\n",
       "      <td>2.000000</td>\n",
       "      <td>2.000000</td>\n",
       "      <td>7.200000</td>\n",
       "      <td>5.400000</td>\n",
       "      <td>1.000000</td>\n",
       "      <td>119.980003</td>\n",
       "      <td>2.000000</td>\n",
       "    </tr>\n",
       "    <tr>\n",
       "      <th>50%</th>\n",
       "      <td>3.000000</td>\n",
       "      <td>4.000000</td>\n",
       "      <td>31.570000</td>\n",
       "      <td>14.000000</td>\n",
       "      <td>1.000000</td>\n",
       "      <td>199.919998</td>\n",
       "      <td>3.000000</td>\n",
       "    </tr>\n",
       "    <tr>\n",
       "      <th>75%</th>\n",
       "      <td>5.000000</td>\n",
       "      <td>4.000000</td>\n",
       "      <td>64.889999</td>\n",
       "      <td>30.000000</td>\n",
       "      <td>3.000000</td>\n",
       "      <td>299.950012</td>\n",
       "      <td>5.000000</td>\n",
       "    </tr>\n",
       "    <tr>\n",
       "      <th>max</th>\n",
       "      <td>6.000000</td>\n",
       "      <td>4.000000</td>\n",
       "      <td>911.799988</td>\n",
       "      <td>500.000000</td>\n",
       "      <td>5.000000</td>\n",
       "      <td>1999.989990</td>\n",
       "      <td>6.000000</td>\n",
       "    </tr>\n",
       "  </tbody>\n",
       "</table>\n",
       "</div>"
      ],
      "text/plain": [
       "       Days for shipping (real)  Days for shipment (scheduled)  \\\n",
       "count              79107.000000                   79107.000000   \n",
       "mean                   3.584260                       3.092610   \n",
       "std                    1.504861                       1.185356   \n",
       "min                    1.000000                       1.000000   \n",
       "25%                    2.000000                       2.000000   \n",
       "50%                    3.000000                       4.000000   \n",
       "75%                    5.000000                       4.000000   \n",
       "max                    6.000000                       4.000000   \n",
       "\n",
       "       Benefit per order  Order Item Discount  Order Item Quantity  \\\n",
       "count       79107.000000         79107.000000         79107.000000   \n",
       "mean           22.497590            20.746841             2.124742   \n",
       "std           104.320758            21.976412             1.452459   \n",
       "min         -4274.979980             0.000000             1.000000   \n",
       "25%             7.200000             5.400000             1.000000   \n",
       "50%            31.570000            14.000000             1.000000   \n",
       "75%            64.889999            30.000000             3.000000   \n",
       "max           911.799988           500.000000             5.000000   \n",
       "\n",
       "              Sales  Order_to_Shipping_duration  \n",
       "count  79107.000000                79107.000000  \n",
       "mean     203.748583                    3.457532  \n",
       "std      134.209031                    1.664432  \n",
       "min        9.990000                    0.000000  \n",
       "25%      119.980003                    2.000000  \n",
       "50%      199.919998                    3.000000  \n",
       "75%      299.950012                    5.000000  \n",
       "max     1999.989990                    6.000000  "
      ]
     },
     "execution_count": 22,
     "metadata": {},
     "output_type": "execute_result"
    }
   ],
   "source": [
    "#Summary Statistics of the subset of supply chain dataset\n",
    "supply_chain_df2[supply_chain_num_var].describe()"
   ]
  },
  {
   "cell_type": "code",
   "execution_count": 23,
   "id": "0eecc238",
   "metadata": {},
   "outputs": [
    {
     "data": {
      "image/png": "[encoded data removed]",
      "text/plain": [
       "<Figure size 800x600 with 1 Axes>"
      ]
     },
     "metadata": {},
     "output_type": "display_data"
    },
    {
     "data": {
      "image/png": "[encoded data removed]",
      "text/plain": [
       "<Figure size 800x600 with 1 Axes>"
      ]
     },
     "metadata": {},
     "output_type": "display_data"
    },
    {
     "data": {
      "image/png": "[encoded data removed]",
      "text/plain": [
       "<Figure size 800x600 with 1 Axes>"
      ]
     },
     "metadata": {},
     "output_type": "display_data"
    },
    {
     "data": {
      "image/png": "[encoded data removed]",
      "text/plain": [
       "<Figure size 800x600 with 1 Axes>"
      ]
     },
     "metadata": {},
     "output_type": "display_data"
    },
    {
     "data": {
      "image/png": "[encoded data removed]",
      "text/plain": [
       "<Figure size 800x600 with 1 Axes>"
      ]
     },
     "metadata": {},
     "output_type": "display_data"
    },
    {
     "data": {
      "image/png": "[encoded data removed]",
      "text/plain": [
       "<Figure size 800x600 with 1 Axes>"
      ]
     },
     "metadata": {},
     "output_type": "display_data"
    },
    {
     "data": {
      "image/png": "[encoded data removed]",
      "text/plain": [
       "<Figure size 800x600 with 1 Axes>"
      ]
     },
     "metadata": {},
     "output_type": "display_data"
    }
   ],
   "source": [
    "#Plot box plots for all relevant numerical attributes\n",
    "if not os.path.exists(\"outlier_plots\"):\n",
    "     os.makedirs(\"outlier_plots\")\n",
    "\n",
    "for column in supply_chain_df2[supply_chain_num_var]:\n",
    "            plt.figure(figsize=(8, 6))\n",
    "            plt.boxplot(supply_chain_df2[column], vert=False)\n",
    "            plt.title(f\"Box Plot - {column}\")\n",
    "            plt.xlabel(column)\n",
    "            plt.savefig(f\"outlier_plots/{column}_boxplot.png\")\n",
    "            plt.show()"
   ]
  },
  {
   "cell_type": "code",
   "execution_count": 24,
   "id": "a5faf944",
   "metadata": {},
   "outputs": [
    {
     "name": "stderr",
     "output_type": "stream",
     "text": [
      "C:\\Users\\gouth\\AppData\\Local\\Temp\\ipykernel_22792\\536612003.py:21: SettingWithCopyWarning: \n",
      "A value is trying to be set on a copy of a slice from a DataFrame.\n",
      "Try using .loc[row_indexer,col_indexer] = value instead\n",
      "\n",
      "See the caveats in the documentation: https://pandas.pydata.org/pandas-docs/stable/user_guide/indexing.html#returning-a-view-versus-a-copy\n",
      "  supply_chain_df2[m] = supply_chain_df2[m].replace({outlier_list[p]:supply_chain_df2[m].mean()})\n"
     ]
    }
   ],
   "source": [
    "#Function that returns the list of outliers based on Inter Quartile Range\n",
    "def detect_outliers_iqr(data):\n",
    "    outliers = []\n",
    "    data = sorted(data)\n",
    "    q1 = np.percentile(data, 25)\n",
    "    q3 = np.percentile(data, 75)\n",
    "    IQR = q3-q1\n",
    "    lwr_bound = q1-(1.5*IQR)\n",
    "    upr_bound = q3+(1.5*IQR)\n",
    "    for i in data: \n",
    "        if (i<lwr_bound or i>upr_bound):\n",
    "            outliers.append(i)\n",
    "    return outliers\n",
    "\n",
    "supply_chain_outlier_attr = ['Benefit per order','Order Item Discount','Sales']\n",
    "\n",
    "for m in supply_chain_df2[supply_chain_outlier_attr].columns:\n",
    "    outlier_list = detect_outliers_iqr(supply_chain_df2[m])\n",
    "    #Remove records based on the outlier values of build_year\n",
    "    for p in range(0,len(outlier_list)):\n",
    "        supply_chain_df2[m] = supply_chain_df2[m].replace({outlier_list[p]:supply_chain_df2[m].mean()})\n",
    "        "
   ]
  },
  {
   "cell_type": "code",
   "execution_count": 25,
   "id": "55d8317c",
   "metadata": {},
   "outputs": [
    {
     "data": {
      "image/png": "[encoded data removed]",
      "text/plain": [
       "<Figure size 800x600 with 1 Axes>"
      ]
     },
     "metadata": {},
     "output_type": "display_data"
    },
    {
     "data": {
      "image/png": "[encoded data removed]",
      "text/plain": [
       "<Figure size 800x600 with 1 Axes>"
      ]
     },
     "metadata": {},
     "output_type": "display_data"
    },
    {
     "data": {
      "image/png": "[encoded data removed]",
      "text/plain": [
       "<Figure size 800x600 with 1 Axes>"
      ]
     },
     "metadata": {},
     "output_type": "display_data"
    },
    {
     "data": {
      "image/png": "[encoded data removed]",
      "text/plain": [
       "<Figure size 800x600 with 1 Axes>"
      ]
     },
     "metadata": {},
     "output_type": "display_data"
    },
    {
     "data": {
      "image/png": "[encoded data removed]",
      "text/plain": [
       "<Figure size 800x600 with 1 Axes>"
      ]
     },
     "metadata": {},
     "output_type": "display_data"
    },
    {
     "data": {
      "image/png": "[encoded data removed]",
      "text/plain": [
       "<Figure size 800x600 with 1 Axes>"
      ]
     },
     "metadata": {},
     "output_type": "display_data"
    },
    {
     "data": {
      "image/png": "[encoded data removed]",
      "text/plain": [
       "<Figure size 800x600 with 1 Axes>"
      ]
     },
     "metadata": {},
     "output_type": "display_data"
    }
   ],
   "source": [
    "#Plot box plots for all relevant numerical attributes\n",
    "if not os.path.exists(\"outlier_plots\"):\n",
    "     os.makedirs(\"outlier_plots\")\n",
    "\n",
    "for column in supply_chain_df2[supply_chain_num_var]:\n",
    "            plt.figure(figsize=(8, 6))\n",
    "            plt.boxplot(supply_chain_df2[column], vert=False)\n",
    "            plt.title(f\"Box Plot - {column}\")\n",
    "            plt.xlabel(column)\n",
    "            plt.savefig(f\"outlier_plots/{column}_boxplot.png\")\n",
    "            plt.show()"
   ]
  },
  {
   "cell_type": "code",
   "execution_count": 26,
   "id": "a244aaae",
   "metadata": {},
   "outputs": [
    {
     "data": {
      "image/png": "[encoded data removed]",
      "text/plain": [
       "<Figure size 640x480 with 1 Axes>"
      ]
     },
     "metadata": {},
     "output_type": "display_data"
    },
    {
     "data": {
      "image/png": "[encoded data removed]",
      "text/plain": [
       "<Figure size 640x480 with 1 Axes>"
      ]
     },
     "metadata": {},
     "output_type": "display_data"
    },
    {
     "data": {
      "image/png": "[encoded data removed]",
      "text/plain": [
       "<Figure size 640x480 with 1 Axes>"
      ]
     },
     "metadata": {},
     "output_type": "display_data"
    },
    {
     "data": {
      "image/png": "[encoded data removed]",
      "text/plain": [
       "<Figure size 640x480 with 1 Axes>"
      ]
     },
     "metadata": {},
     "output_type": "display_data"
    },
    {
     "data": {
      "image/png": "[encoded data removed]",
      "text/plain": [
       "<Figure size 640x480 with 1 Axes>"
      ]
     },
     "metadata": {},
     "output_type": "display_data"
    },
    {
     "data": {
      "image/png": "[encoded data removed]",
      "text/plain": [
       "<Figure size 640x480 with 1 Axes>"
      ]
     },
     "metadata": {},
     "output_type": "display_data"
    },
    {
     "data": {
      "image/png": "[encoded data removed]",
      "text/plain": [
       "<Figure size 640x480 with 1 Axes>"
      ]
     },
     "metadata": {},
     "output_type": "display_data"
    }
   ],
   "source": [
    "# Plot histogram to identify the distribution of values \n",
    "for i in supply_chain_df2[supply_chain_num_var].columns: \n",
    "        x =supply_chain_df2[i]\n",
    "        plt.hist(x, bins=10)\n",
    "        plt.title(i)\n",
    "        plt.show()"
   ]
  },
  {
   "cell_type": "code",
   "execution_count": 27,
   "id": "a1f5d1b5",
   "metadata": {
    "scrolled": false
   },
   "outputs": [
    {
     "name": "stderr",
     "output_type": "stream",
     "text": [
      "C:\\Users\\gouth\\AppData\\Local\\Temp\\ipykernel_22792\\314953638.py:4: SettingWithCopyWarning: \n",
      "A value is trying to be set on a copy of a slice from a DataFrame.\n",
      "Try using .loc[row_indexer,col_indexer] = value instead\n",
      "\n",
      "See the caveats in the documentation: https://pandas.pydata.org/pandas-docs/stable/user_guide/indexing.html#returning-a-view-versus-a-copy\n",
      "  supply_chain_df3['Type']= supply_chain_df3['Type'].astype('category')\n",
      "C:\\Users\\gouth\\AppData\\Local\\Temp\\ipykernel_22792\\314953638.py:5: SettingWithCopyWarning: \n",
      "A value is trying to be set on a copy of a slice from a DataFrame.\n",
      "Try using .loc[row_indexer,col_indexer] = value instead\n",
      "\n",
      "See the caveats in the documentation: https://pandas.pydata.org/pandas-docs/stable/user_guide/indexing.html#returning-a-view-versus-a-copy\n",
      "  supply_chain_df3['Shipping Mode']= supply_chain_df3['Shipping Mode'].astype('category')\n"
     ]
    }
   ],
   "source": [
    "supply_chain_df3 = supply_chain_df2[['Type','Benefit per order','Late_delivery_risk','Order Item Discount','Order Item Quantity','Sales','Shipping Mode', 'Shedule_Mismatch','Order_to_Shipping_duration']]\n",
    "\n",
    "#Define the Type and shipping mode as categorical data\n",
    "supply_chain_df3['Type']= supply_chain_df3['Type'].astype('category')\n",
    "supply_chain_df3['Shipping Mode']= supply_chain_df3['Shipping Mode'].astype('category')\n",
    "\n",
    "#Encoding the categorical variables \n",
    "supply_chain_df3 = pd.get_dummies(supply_chain_df3, columns=['Type','Shipping Mode'])\n"
   ]
  },
  {
   "cell_type": "code",
   "execution_count": 28,
   "id": "2bf65b7d",
   "metadata": {},
   "outputs": [],
   "source": [
    "#Define predictors and outcome variables for ANN prediction model\n",
    "outcome = 'Late_delivery_risk'\n",
    "predictors = [c for c in supply_chain_df3.columns if c != outcome]"
   ]
  },
  {
   "cell_type": "code",
   "execution_count": 29,
   "id": "7eebb24d",
   "metadata": {},
   "outputs": [],
   "source": [
    "#Partition data into predictors and outcomes \n",
    "y = supply_chain_df3[outcome]\n",
    "X = supply_chain_df3[predictors]"
   ]
  },
  {
   "cell_type": "code",
   "execution_count": 30,
   "id": "ef0e8ebd",
   "metadata": {},
   "outputs": [],
   "source": [
    "#Data is split into training and validation set\n",
    "train_X,valid_X,train_y,valid_y = train_test_split(X,y, test_size=0.4, random_state=0)"
   ]
  },
  {
   "cell_type": "code",
   "execution_count": 31,
   "id": "4324b33f",
   "metadata": {},
   "outputs": [
    {
     "data": {
      "text/html": [
       "<style>#sk-container-id-1 {color: black;background-color: white;}#sk-container-id-1 pre{padding: 0;}#sk-container-id-1 div.sk-toggleable {background-color: white;}#sk-container-id-1 label.sk-toggleable__label {cursor: pointer;display: block;width: 100%;margin-bottom: 0;padding: 0.3em;box-sizing: border-box;text-align: center;}#sk-container-id-1 label.sk-toggleable__label-arrow:before {content: \"▸\";float: left;margin-right: 0.25em;color: #696969;}#sk-container-id-1 label.sk-toggleable__label-arrow:hover:before {color: black;}#sk-container-id-1 div.sk-estimator:hover label.sk-toggleable__label-arrow:before {color: black;}#sk-container-id-1 div.sk-toggleable__content {max-height: 0;max-width: 0;overflow: hidden;text-align: left;background-color: #f0f8ff;}#sk-container-id-1 div.sk-toggleable__content pre {margin: 0.2em;color: black;border-radius: 0.25em;background-color: #f0f8ff;}#sk-container-id-1 input.sk-toggleable__control:checked~div.sk-toggleable__content {max-height: 200px;max-width: 100%;overflow: auto;}#sk-container-id-1 input.sk-toggleable__control:checked~label.sk-toggleable__label-arrow:before {content: \"▾\";}#sk-container-id-1 div.sk-estimator input.sk-toggleable__control:checked~label.sk-toggleable__label {background-color: #d4ebff;}#sk-container-id-1 div.sk-label input.sk-toggleable__control:checked~label.sk-toggleable__label {background-color: #d4ebff;}#sk-container-id-1 input.sk-hidden--visually {border: 0;clip: rect(1px 1px 1px 1px);clip: rect(1px, 1px, 1px, 1px);height: 1px;margin: -1px;overflow: hidden;padding: 0;position: absolute;width: 1px;}#sk-container-id-1 div.sk-estimator {font-family: monospace;background-color: #f0f8ff;border: 1px dotted black;border-radius: 0.25em;box-sizing: border-box;margin-bottom: 0.5em;}#sk-container-id-1 div.sk-estimator:hover {background-color: #d4ebff;}#sk-container-id-1 div.sk-parallel-item::after {content: \"\";width: 100%;border-bottom: 1px solid gray;flex-grow: 1;}#sk-container-id-1 div.sk-label:hover label.sk-toggleable__label {background-color: #d4ebff;}#sk-container-id-1 div.sk-serial::before {content: \"\";position: absolute;border-left: 1px solid gray;box-sizing: border-box;top: 0;bottom: 0;left: 50%;z-index: 0;}#sk-container-id-1 div.sk-serial {display: flex;flex-direction: column;align-items: center;background-color: white;padding-right: 0.2em;padding-left: 0.2em;position: relative;}#sk-container-id-1 div.sk-item {position: relative;z-index: 1;}#sk-container-id-1 div.sk-parallel {display: flex;align-items: stretch;justify-content: center;background-color: white;position: relative;}#sk-container-id-1 div.sk-item::before, #sk-container-id-1 div.sk-parallel-item::before {content: \"\";position: absolute;border-left: 1px solid gray;box-sizing: border-box;top: 0;bottom: 0;left: 50%;z-index: -1;}#sk-container-id-1 div.sk-parallel-item {display: flex;flex-direction: column;z-index: 1;position: relative;background-color: white;}#sk-container-id-1 div.sk-parallel-item:first-child::after {align-self: flex-end;width: 50%;}#sk-container-id-1 div.sk-parallel-item:last-child::after {align-self: flex-start;width: 50%;}#sk-container-id-1 div.sk-parallel-item:only-child::after {width: 0;}#sk-container-id-1 div.sk-dashed-wrapped {border: 1px dashed gray;margin: 0 0.4em 0.5em 0.4em;box-sizing: border-box;padding-bottom: 0.4em;background-color: white;}#sk-container-id-1 div.sk-label label {font-family: monospace;font-weight: bold;display: inline-block;line-height: 1.2em;}#sk-container-id-1 div.sk-label-container {text-align: center;}#sk-container-id-1 div.sk-container {/* jupyter's `normalize.less` sets `[hidden] { display: none; }` but bootstrap.min.css set `[hidden] { display: none !important; }` so we also need the `!important` here to be able to override the default hidden behavior on the sphinx rendered scikit-learn.org. See: https://github.com/scikit-learn/scikit-learn/issues/21755 */display: inline-block !important;position: relative;}#sk-container-id-1 div.sk-text-repr-fallback {display: none;}</style><div id=\"sk-container-id-1\" class=\"sk-top-container\"><div class=\"sk-text-repr-fallback\"><pre>MLPClassifier(activation=&#x27;logistic&#x27;, hidden_layer_sizes=3, random_state=1,\n",
       "              solver=&#x27;lbfgs&#x27;)</pre><b>In a Jupyter environment, please rerun this cell to show the HTML representation or trust the notebook. <br />On GitHub, the HTML representation is unable to render, please try loading this page with nbviewer.org.</b></div><div class=\"sk-container\" hidden><div class=\"sk-item\"><div class=\"sk-estimator sk-toggleable\"><input class=\"sk-toggleable__control sk-hidden--visually\" id=\"sk-estimator-id-1\" type=\"checkbox\" checked><label for=\"sk-estimator-id-1\" class=\"sk-toggleable__label sk-toggleable__label-arrow\">MLPClassifier</label><div class=\"sk-toggleable__content\"><pre>MLPClassifier(activation=&#x27;logistic&#x27;, hidden_layer_sizes=3, random_state=1,\n",
       "              solver=&#x27;lbfgs&#x27;)</pre></div></div></div></div></div>"
      ],
      "text/plain": [
       "MLPClassifier(activation='logistic', hidden_layer_sizes=3, random_state=1,\n",
       "              solver='lbfgs')"
      ]
     },
     "execution_count": 31,
     "metadata": {},
     "output_type": "execute_result"
    }
   ],
   "source": [
    "#Train neural network with 3 hidden nodes\n",
    "clf = MLPClassifier(hidden_layer_sizes=(3), activation='logistic', solver='lbfgs',random_state=1)\n",
    "clf.fit(train_X, train_y.values)\n"
   ]
  },
  {
   "cell_type": "code",
   "execution_count": 32,
   "id": "f7e12b36",
   "metadata": {},
   "outputs": [
    {
     "name": "stdout",
     "output_type": "stream",
     "text": [
      "Confusion Matrix (Accuracy 1.0000)\n",
      "\n",
      "       Prediction\n",
      "Actual     0     1\n",
      "     0 20313     0\n",
      "     1     0 27151\n"
     ]
    }
   ],
   "source": [
    "# training performance\n",
    "classificationSummary(train_y, clf.predict(train_X))"
   ]
  },
  {
   "cell_type": "code",
   "execution_count": 33,
   "id": "c6271637",
   "metadata": {},
   "outputs": [
    {
     "name": "stdout",
     "output_type": "stream",
     "text": [
      "Confusion Matrix (Accuracy 1.0000)\n",
      "\n",
      "       Prediction\n",
      "Actual     0     1\n",
      "     0 13486     0\n",
      "     1     0 18157\n"
     ]
    }
   ],
   "source": [
    "# validation performance\n",
    "classificationSummary(valid_y, clf.predict(valid_X))"
   ]
  },
  {
   "cell_type": "code",
   "execution_count": 34,
   "id": "0576c9c9",
   "metadata": {},
   "outputs": [
    {
     "name": "stdout",
     "output_type": "stream",
     "text": [
      "Intercepts\n",
      "[array([ 0.21012212, -8.44987156,  0.0831615 ]), array([-7.54269746])]\n"
     ]
    }
   ],
   "source": [
    "#Network structure\n",
    "print('Intercepts')\n",
    "print(clf.intercepts_)"
   ]
  },
  {
   "cell_type": "code",
   "execution_count": 35,
   "id": "46808065",
   "metadata": {},
   "outputs": [
    {
     "name": "stdout",
     "output_type": "stream",
     "text": [
      "Weights\n",
      "[array([[ 4.81507166e+00,  3.33551203e-02,  8.82761279e+00],\n",
      "       [ 2.91090158e+00,  6.63220243e-02,  3.36168136e+00],\n",
      "       [ 8.14154870e-03, -5.02085944e-01,  6.50052842e-01],\n",
      "       [ 1.33406202e+01, -3.00956259e-02,  2.27632119e+01],\n",
      "       [ 1.91304476e+00,  3.59256779e+01,  4.65483308e+00],\n",
      "       [ 3.09902967e+00,  6.32193077e+00,  7.31604579e+00],\n",
      "       [-2.73180779e-01, -3.44645622e+00,  2.68579795e-01],\n",
      "       [ 4.26445419e-01, -5.60447915e+00,  5.26449576e-01],\n",
      "       [ 8.08151076e-01,  1.32186237e+01,  1.21747818e+00],\n",
      "       [-3.93018664e-01,  2.42604403e-01,  2.18340866e-01],\n",
      "       [ 1.31787969e-01, -1.52742924e-01,  1.09933296e+00],\n",
      "       [-8.03848609e-01, -2.18731298e+01, -1.92742147e+00]]), array([[ -6.84039186],\n",
      "       [ 38.31035077],\n",
      "       [-10.35800147]])]\n"
     ]
    }
   ],
   "source": [
    "print('Weights')\n",
    "print(clf.coefs_)"
   ]
  }
 ],
 "metadata": {
  "kernelspec": {
   "display_name": "Python 3 (ipykernel)",
   "language": "python",
   "name": "python3"
  },
  "language_info": {
   "codemirror_mode": {
    "name": "ipython",
    "version": 3
   },
   "file_extension": ".py",
   "mimetype": "text/x-python",
   "name": "python",
   "nbconvert_exporter": "python",
   "pygments_lexer": "ipython3",
   "version": "3.10.9"
  }
 },
 "nbformat": 4,
 "nbformat_minor": 5
}
